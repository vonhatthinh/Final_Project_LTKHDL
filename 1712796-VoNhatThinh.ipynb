{
 "cells": [
  {
   "cell_type": "markdown",
   "metadata": {},
   "source": [
    "# Đồ án cuối kỳ"
   ]
  },
  {
   "cell_type": "markdown",
   "metadata": {},
   "source": [
    "Các bước xử lý dữ liệu:\n",
    "\n",
    "đọc qua dữ liệu thì thấy có 2 loại dữ liệu:\n",
    "\n",
    "các file time series có các cột là các ngày, giá trị tương ứng của các ô trong ngày đó là các ca mắc bệnh và các dòng là các nước\n",
    "\n",
    "các file covid 19 thì là chi tiết ngày giờ phát hiện ca mắc và các thông tin chi tiết có liên quan\n",
    "\n",
    "file Summary trước làm để tổng hợp lại các cột trong file\n",
    "\n",
    "Ý tưởng:\n",
    "\n",
    "đây là các dữ liệu time series nên dựa theo hướng này để giải quyết"
   ]
  },
  {
   "cell_type": "markdown",
   "metadata": {},
   "source": [
    "Đọc file TimeSeries.ipynb có ý tưởng độ lại tập file time series: với mỗi dòng trong file đều là các nước, các cột thể hiện giá trị số ca mắc trong ngày đó tương ứng với tên cột vậy ta ta tạo biến kiểu DataFrame hay dictionary để lưu lại vd: Case['England']['29-7-2020']\n",
    "\n",
    "ý tưởng là vậy trước mắt ta phải hoàn thiện công đoạn xử lý tiền dữ liệu:\n",
    "\n",
    "giá trị các ô trong file (đặc biệt là các ngày) chưa theo 1 mẫu hoàn chỉnh, cần xử lý về 1 format để tiện xử lý\n",
    "đọc hiểu các file covid-19"
   ]
  },
  {
   "cell_type": "markdown",
   "metadata": {},
   "source": [
    "covid_19_data.csv: rất cơ bản, ngày phát hiện ca nhiễm tại quốc gia nào và tình trạng ra sao\n",
    "\n",
    "COVID19_line_list_data.csv (xóa cột D thừa): chi tiết nên phức tạp hơn file trên, thể hiện theo ngày diễn biến, mỗi dòng là 1 báo cáo tình hình dịch tại nước sở tại (vd: filter cột country theo South Korea), có khoảng ngày tiếp xúc, giới tính, chi tiết triệu chứng, ngày xuất hiện triệu chứng, có đến vũ hán hay không hoặc từ vũ hán đi ra ngoài, ngày đi khám tại bệnh viện và nguồn\n",
    "\n",
    "COVID19_open_line_list.csv: chi tiết vcl hơn cả file trên, có tất cả cái trên và có cả: tọa độ (chưa biết về cái gì), mấy ông admin xử lý dữ liệu nào (chắc k liên quan), ngày có bệnh (ngày phát, ngày đến khám, ngày xác nhận nhiễm), lịch sử đi lại (ngày, địa điểm), các bệnh lý kèm theo"
   ]
  }
 ],
 "metadata": {
  "kernelspec": {
   "display_name": "Python 3",
   "language": "python",
   "name": "python3"
  },
  "language_info": {
   "codemirror_mode": {
    "name": "ipython",
    "version": 3
   },
   "file_extension": ".py",
   "mimetype": "text/x-python",
   "name": "python",
   "nbconvert_exporter": "python",
   "pygments_lexer": "ipython3",
   "version": "3.7.6"
  }
 },
 "nbformat": 4,
 "nbformat_minor": 4
}
